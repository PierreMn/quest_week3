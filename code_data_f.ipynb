{
 "cells": [
  {
   "cell_type": "code",
   "execution_count": 2,
   "id": "c4a86372-81fe-4961-822c-d7084b497724",
   "metadata": {},
   "outputs": [],
   "source": [
    "import pandas as pd\n",
    "import matplotlib.pyplot as plt\n",
    "import wbgapi as wb"
   ]
  },
  {
   "cell_type": "code",
   "execution_count": null,
   "id": "8548b9f8-b506-4567-872d-a8582bbc8a8f",
   "metadata": {
    "collapsed": true,
    "jupyter": {
     "outputs_hidden": true
    },
    "tags": []
   },
   "outputs": [],
   "source": [
    "help(wb)"
   ]
  },
  {
   "cell_type": "code",
   "execution_count": null,
   "id": "7c6e6ed2-8d27-465f-a753-3a34838d6e24",
   "metadata": {
    "collapsed": true,
    "jupyter": {
     "outputs_hidden": true
    },
    "tags": []
   },
   "outputs": [],
   "source": [
    "wb.source.info()"
   ]
  },
  {
   "cell_type": "code",
   "execution_count": null,
   "id": "9ed4b14b-f52a-46f2-83af-1e14d1436a51",
   "metadata": {
    "collapsed": true,
    "jupyter": {
     "outputs_hidden": true
    },
    "tags": []
   },
   "outputs": [],
   "source": [
    "wb.economy.info()"
   ]
  },
  {
   "cell_type": "code",
   "execution_count": null,
   "id": "31ee21cc-8cda-4e8c-89b7-16f708f19504",
   "metadata": {
    "tags": []
   },
   "outputs": [],
   "source": [
    "wb.region.info()"
   ]
  },
  {
   "cell_type": "code",
   "execution_count": null,
   "id": "070eee7e-2a1c-4de5-8610-096b1c4e07b2",
   "metadata": {
    "collapsed": true,
    "jupyter": {
     "outputs_hidden": true
    },
    "tags": []
   },
   "outputs": [],
   "source": [
    "wb.series.info()"
   ]
  },
  {
   "cell_type": "code",
   "execution_count": null,
   "id": "ec5ac0a3-2b5c-42f5-bfba-ca019833114c",
   "metadata": {
    "tags": []
   },
   "outputs": [],
   "source": [
    "wb.series.info(q=\"gender\")"
   ]
  },
  {
   "cell_type": "code",
   "execution_count": null,
   "id": "06619d0a-809c-4726-ab32-369badcb9726",
   "metadata": {
    "tags": []
   },
   "outputs": [],
   "source": [
    "wb.series.info(q='forest') # query"
   ]
  },
  {
   "cell_type": "code",
   "execution_count": null,
   "id": "183782bd-f06f-43f8-8de8-7b5c18520710",
   "metadata": {
    "tags": []
   },
   "outputs": [],
   "source": [
    "business = wb.data.DataFrame('IC.REG.DURS', wb.region.members('ECS'))\n",
    "business.head()"
   ]
  },
  {
   "cell_type": "code",
   "execution_count": null,
   "id": "e64494fb-1575-4194-b7e1-4dfb111404a5",
   "metadata": {},
   "outputs": [],
   "source": [
    "co2_emissions = wb.data.DataFrame('EN.ATM.CO2E.KD.GD', ['AFG', 'ARG','BRA','CHN','DEU','FRA','GBR','JPN','LBN','POL','UKR','URY','USA'], time=range(2010,2021))\n",
    "co2_emissions.head()"
   ]
  },
  {
   "cell_type": "code",
   "execution_count": null,
   "id": "5bd634e9",
   "metadata": {},
   "outputs": [],
   "source": [
    "as_natural_resources_depletion = wb.data.DataFrame('NY.ADJ.DRES.GN.ZS', ['AFG', 'ARG','BRA','CHN','DEU','FRA','GBR','JPN','LBN','POL','UKR','URY','USA'], time=range(2010,2021))\n",
    "as_natural_resources_depletion.head()"
   ]
  },
  {
   "cell_type": "code",
   "execution_count": null,
   "id": "4ef05cba",
   "metadata": {},
   "outputs": [],
   "source": [
    "water_depletion = wb.data.DataFrame('ER.H2O.FWST.ZS', ['AFG', 'ARG','BRA','CHN','DEU','FRA','GBR','JPN','LBN','POL','UKR','URY','USA'], time=range(2010,2021))\n",
    "water_depletion.head()"
   ]
  },
  {
   "cell_type": "code",
   "execution_count": 3,
   "id": "0a35b762",
   "metadata": {},
   "outputs": [
    {
     "data": {
      "text/html": [
       "<div>\n",
       "<style scoped>\n",
       "    .dataframe tbody tr th:only-of-type {\n",
       "        vertical-align: middle;\n",
       "    }\n",
       "\n",
       "    .dataframe tbody tr th {\n",
       "        vertical-align: top;\n",
       "    }\n",
       "\n",
       "    .dataframe thead th {\n",
       "        text-align: right;\n",
       "    }\n",
       "</style>\n",
       "<table border=\"1\" class=\"dataframe\">\n",
       "  <thead>\n",
       "    <tr style=\"text-align: right;\">\n",
       "      <th></th>\n",
       "      <th>YR2010</th>\n",
       "      <th>YR2011</th>\n",
       "      <th>YR2012</th>\n",
       "      <th>YR2013</th>\n",
       "      <th>YR2014</th>\n",
       "      <th>YR2015</th>\n",
       "      <th>YR2016</th>\n",
       "      <th>YR2017</th>\n",
       "      <th>YR2018</th>\n",
       "      <th>YR2019</th>\n",
       "      <th>YR2020</th>\n",
       "    </tr>\n",
       "    <tr>\n",
       "      <th>economy</th>\n",
       "      <th></th>\n",
       "      <th></th>\n",
       "      <th></th>\n",
       "      <th></th>\n",
       "      <th></th>\n",
       "      <th></th>\n",
       "      <th></th>\n",
       "      <th></th>\n",
       "      <th></th>\n",
       "      <th></th>\n",
       "      <th></th>\n",
       "    </tr>\n",
       "  </thead>\n",
       "  <tbody>\n",
       "    <tr>\n",
       "      <th>AFG</th>\n",
       "      <td>15.15</td>\n",
       "      <td>12.61</td>\n",
       "      <td>15.36</td>\n",
       "      <td>16.86</td>\n",
       "      <td>18.93</td>\n",
       "      <td>17.53</td>\n",
       "      <td>19.92</td>\n",
       "      <td>19.21</td>\n",
       "      <td>17.96</td>\n",
       "      <td>18.51</td>\n",
       "      <td>17.58</td>\n",
       "    </tr>\n",
       "    <tr>\n",
       "      <th>ARG</th>\n",
       "      <td>8.79</td>\n",
       "      <td>8.83</td>\n",
       "      <td>8.61</td>\n",
       "      <td>8.91</td>\n",
       "      <td>9.79</td>\n",
       "      <td>9.40</td>\n",
       "      <td>9.38</td>\n",
       "      <td>10.37</td>\n",
       "      <td>10.52</td>\n",
       "      <td>10.74</td>\n",
       "      <td>9.84</td>\n",
       "    </tr>\n",
       "    <tr>\n",
       "      <th>BRA</th>\n",
       "      <td>46.81</td>\n",
       "      <td>45.26</td>\n",
       "      <td>43.49</td>\n",
       "      <td>42.32</td>\n",
       "      <td>41.71</td>\n",
       "      <td>43.62</td>\n",
       "      <td>45.46</td>\n",
       "      <td>45.33</td>\n",
       "      <td>46.95</td>\n",
       "      <td>47.58</td>\n",
       "      <td>50.05</td>\n",
       "    </tr>\n",
       "    <tr>\n",
       "      <th>CHN</th>\n",
       "      <td>12.26</td>\n",
       "      <td>11.34</td>\n",
       "      <td>11.53</td>\n",
       "      <td>11.47</td>\n",
       "      <td>11.91</td>\n",
       "      <td>12.18</td>\n",
       "      <td>12.60</td>\n",
       "      <td>13.14</td>\n",
       "      <td>13.55</td>\n",
       "      <td>14.33</td>\n",
       "      <td>14.81</td>\n",
       "    </tr>\n",
       "    <tr>\n",
       "      <th>DEU</th>\n",
       "      <td>11.61</td>\n",
       "      <td>12.54</td>\n",
       "      <td>13.64</td>\n",
       "      <td>13.63</td>\n",
       "      <td>14.02</td>\n",
       "      <td>14.55</td>\n",
       "      <td>14.24</td>\n",
       "      <td>15.22</td>\n",
       "      <td>16.04</td>\n",
       "      <td>17.07</td>\n",
       "      <td>18.60</td>\n",
       "    </tr>\n",
       "  </tbody>\n",
       "</table>\n",
       "</div>"
      ],
      "text/plain": [
       "         YR2010  YR2011  YR2012  YR2013  YR2014  YR2015  YR2016  YR2017  \\\n",
       "economy                                                                   \n",
       "AFG       15.15   12.61   15.36   16.86   18.93   17.53   19.92   19.21   \n",
       "ARG        8.79    8.83    8.61    8.91    9.79    9.40    9.38   10.37   \n",
       "BRA       46.81   45.26   43.49   42.32   41.71   43.62   45.46   45.33   \n",
       "CHN       12.26   11.34   11.53   11.47   11.91   12.18   12.60   13.14   \n",
       "DEU       11.61   12.54   13.64   13.63   14.02   14.55   14.24   15.22   \n",
       "\n",
       "         YR2018  YR2019  YR2020  \n",
       "economy                          \n",
       "AFG       17.96   18.51   17.58  \n",
       "ARG       10.52   10.74    9.84  \n",
       "BRA       46.95   47.58   50.05  \n",
       "CHN       13.55   14.33   14.81  \n",
       "DEU       16.04   17.07   18.60  "
      ]
     },
     "execution_count": 3,
     "metadata": {},
     "output_type": "execute_result"
    }
   ],
   "source": [
    "renewable_energy_consumption = wb.data.DataFrame('EG.FEC.RNEW.ZS', ['AFG', 'ARG','BRA','CHN','DEU','FRA','GBR','JPN','LBN','POL','UKR','URY','USA'], time=range(2010,2021))\n",
    "renewable_energy_consumption.head()"
   ]
  },
  {
   "cell_type": "code",
   "execution_count": null,
   "id": "b3a69c82",
   "metadata": {},
   "outputs": [],
   "source": [
    "forest_area_p_of_land_area = wb.data.DataFrame('AG.LND.FRST.Zs', ['AFG', 'ARG','BRA','CHN','DEU','FRA','GBR','JPN','LBN','POL','UKR','URY','USA'], time=range(2010,2021))\n",
    "forest_area_p_of_land_area.head()"
   ]
  },
  {
   "cell_type": "code",
   "execution_count": null,
   "id": "339a447c-dde9-472a-b630-bc2686db8587",
   "metadata": {},
   "outputs": [],
   "source": [
    "co2_emissions"
   ]
  },
  {
   "cell_type": "code",
   "execution_count": null,
   "id": "36e0274e-b327-4465-8e5e-f63712d8ebd8",
   "metadata": {},
   "outputs": [],
   "source": [
    "ren.plot.bar(figsize=(8,4))"
   ]
  },
  {
   "cell_type": "code",
   "execution_count": null,
   "id": "baa9bd40-8978-4a0f-ba1c-25f2bddab446",
   "metadata": {},
   "outputs": [],
   "source": [
    "ren.T.plot()"
   ]
  },
  {
   "cell_type": "code",
   "execution_count": null,
   "id": "dd420ecb-9b6b-4a0f-9a6c-4c1b57a10f10",
   "metadata": {},
   "outputs": [],
   "source": [
    "type(business)"
   ]
  },
  {
   "cell_type": "code",
   "execution_count": null,
   "id": "e1cd9459-a16d-4eb4-beff-3344f0e76328",
   "metadata": {
    "tags": []
   },
   "outputs": [],
   "source": [
    "business.shape"
   ]
  },
  {
   "cell_type": "code",
   "execution_count": null,
   "id": "325decb3-98a6-490a-8567-b69e952e535a",
   "metadata": {},
   "outputs": [],
   "source": [
    "axis\n",
    "axes"
   ]
  },
  {
   "cell_type": "code",
   "execution_count": null,
   "id": "22a5a74b-af20-4789-bb09-007f1be9c2d0",
   "metadata": {},
   "outputs": [],
   "source": [
    "business.sort_values(by=['YR2019'],ascending=True)[10:11]"
   ]
  },
  {
   "cell_type": "code",
   "execution_count": null,
   "id": "546608b1-0759-44ee-9f8e-08ec134aeca6",
   "metadata": {},
   "outputs": [],
   "source": [
    "g5 = business.sort_values(by=['YR2019'],ascending=True)[10:11]\n",
    "ax = business.T.plot(color='lightgray', legend=False)\n",
    "g5.T.plot(ax=ax, figsize=(15,5))"
   ]
  }
 ],
 "metadata": {
  "kernelspec": {
   "display_name": "Python 3 (ipykernel)",
   "language": "python",
   "name": "python3"
  },
  "language_info": {
   "codemirror_mode": {
    "name": "ipython",
    "version": 3
   },
   "file_extension": ".py",
   "mimetype": "text/x-python",
   "name": "python",
   "nbconvert_exporter": "python",
   "pygments_lexer": "ipython3",
   "version": "3.9.5"
  }
 },
 "nbformat": 4,
 "nbformat_minor": 5
}
